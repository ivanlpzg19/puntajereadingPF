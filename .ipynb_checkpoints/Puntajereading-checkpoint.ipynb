{
 "cells": [
  {
   "cell_type": "code",
   "execution_count": 1,
   "id": "8765a643-559f-4869-ace7-2173e5bfae6d",
   "metadata": {},
   "outputs": [],
   "source": [
    "import pandas as pd\n",
    "import numpy as np\n",
    "import matplotlib.pyplot as plt"
   ]
  },
  {
   "cell_type": "code",
   "execution_count": 40,
   "id": "d44a6e68-b182-45e7-a85a-0e1bb7b76788",
   "metadata": {},
   "outputs": [
    {
     "data": {
      "text/html": [
       "<div>\n",
       "<style scoped>\n",
       "    .dataframe tbody tr th:only-of-type {\n",
       "        vertical-align: middle;\n",
       "    }\n",
       "\n",
       "    .dataframe tbody tr th {\n",
       "        vertical-align: top;\n",
       "    }\n",
       "\n",
       "    .dataframe thead th {\n",
       "        text-align: right;\n",
       "    }\n",
       "</style>\n",
       "<table border=\"1\" class=\"dataframe\">\n",
       "  <thead>\n",
       "    <tr style=\"text-align: right;\">\n",
       "      <th></th>\n",
       "      <th>Unnamed: 0</th>\n",
       "      <th>Student ID</th>\n",
       "      <th>student_name</th>\n",
       "      <th>gender</th>\n",
       "      <th>grade</th>\n",
       "      <th>school_name</th>\n",
       "      <th>reading_score</th>\n",
       "      <th>math_score</th>\n",
       "    </tr>\n",
       "  </thead>\n",
       "  <tbody>\n",
       "    <tr>\n",
       "      <th>0</th>\n",
       "      <td>0</td>\n",
       "      <td>0</td>\n",
       "      <td>Paul Bradley</td>\n",
       "      <td>M</td>\n",
       "      <td>9th</td>\n",
       "      <td>Huang High School</td>\n",
       "      <td>66</td>\n",
       "      <td>79</td>\n",
       "    </tr>\n",
       "    <tr>\n",
       "      <th>1</th>\n",
       "      <td>1</td>\n",
       "      <td>1</td>\n",
       "      <td>Victor Smith</td>\n",
       "      <td>M</td>\n",
       "      <td>12th</td>\n",
       "      <td>Huang High School</td>\n",
       "      <td>94</td>\n",
       "      <td>61</td>\n",
       "    </tr>\n",
       "    <tr>\n",
       "      <th>2</th>\n",
       "      <td>2</td>\n",
       "      <td>2</td>\n",
       "      <td>Kevin Rodriguez</td>\n",
       "      <td>M</td>\n",
       "      <td>12th</td>\n",
       "      <td>Huang High School</td>\n",
       "      <td>90</td>\n",
       "      <td>60</td>\n",
       "    </tr>\n",
       "    <tr>\n",
       "      <th>3</th>\n",
       "      <td>3</td>\n",
       "      <td>3</td>\n",
       "      <td>Richard Scott</td>\n",
       "      <td>M</td>\n",
       "      <td>12th</td>\n",
       "      <td>Huang High School</td>\n",
       "      <td>67</td>\n",
       "      <td>58</td>\n",
       "    </tr>\n",
       "    <tr>\n",
       "      <th>4</th>\n",
       "      <td>4</td>\n",
       "      <td>4</td>\n",
       "      <td>Bonnie Ray</td>\n",
       "      <td>F</td>\n",
       "      <td>9th</td>\n",
       "      <td>Huang High School</td>\n",
       "      <td>97</td>\n",
       "      <td>84</td>\n",
       "    </tr>\n",
       "  </tbody>\n",
       "</table>\n",
       "</div>"
      ],
      "text/plain": [
       "   Unnamed: 0  Student ID     student_name gender grade        school_name  \\\n",
       "0           0           0     Paul Bradley      M   9th  Huang High School   \n",
       "1           1           1     Victor Smith      M  12th  Huang High School   \n",
       "2           2           2  Kevin Rodriguez      M  12th  Huang High School   \n",
       "3           3           3    Richard Scott      M  12th  Huang High School   \n",
       "4           4           4       Bonnie Ray      F   9th  Huang High School   \n",
       "\n",
       "   reading_score  math_score  \n",
       "0             66          79  \n",
       "1             94          61  \n",
       "2             90          60  \n",
       "3             67          58  \n",
       "4             97          84  "
      ]
     },
     "execution_count": 40,
     "metadata": {},
     "output_type": "execute_result"
    }
   ],
   "source": [
    "data_students=pd.read_csv(\"C:\\\\Users\\\\ilopezg\\\\Downloads\\\\clean_students_complete.csv\")\n",
    "data_students.head()"
   ]
  },
  {
   "cell_type": "code",
   "execution_count": 46,
   "id": "ef7b3c13-4126-4dbe-8070-0396f44e7bbf",
   "metadata": {},
   "outputs": [
    {
     "name": "stdout",
     "output_type": "stream",
     "text": [
      "El mejor puntaje de reading_scores es de 99 \n",
      "El peor puntaje de reading_scores es de 63\n"
     ]
    }
   ],
   "source": [
    "#SE OBTIENEN LOS PUNTAJES MÁS ALTOS Y BAJOS\n",
    "pmax=data_students[\"reading_score\"].max()\n",
    "pmin=data_students[\"reading_score\"].min()\n",
    "\n",
    "print(\"El mejor puntaje de reading_scores es de\",pmax,\"\\nEl peor puntaje de reading_scores es de\",pmin)\n"
   ]
  },
  {
   "cell_type": "code",
   "execution_count": 48,
   "id": "194f8fc8-22be-4cab-a553-93b88358485d",
   "metadata": {},
   "outputs": [
    {
     "data": {
      "text/html": [
       "<div>\n",
       "<style scoped>\n",
       "    .dataframe tbody tr th:only-of-type {\n",
       "        vertical-align: middle;\n",
       "    }\n",
       "\n",
       "    .dataframe tbody tr th {\n",
       "        vertical-align: top;\n",
       "    }\n",
       "\n",
       "    .dataframe thead th {\n",
       "        text-align: right;\n",
       "    }\n",
       "</style>\n",
       "<table border=\"1\" class=\"dataframe\">\n",
       "  <thead>\n",
       "    <tr style=\"text-align: right;\">\n",
       "      <th></th>\n",
       "      <th>gender</th>\n",
       "      <th>school_name</th>\n",
       "      <th>reading_score</th>\n",
       "    </tr>\n",
       "  </thead>\n",
       "  <tbody>\n",
       "    <tr>\n",
       "      <th>0</th>\n",
       "      <td>M</td>\n",
       "      <td>Huang High School</td>\n",
       "      <td>66</td>\n",
       "    </tr>\n",
       "    <tr>\n",
       "      <th>1</th>\n",
       "      <td>M</td>\n",
       "      <td>Huang High School</td>\n",
       "      <td>94</td>\n",
       "    </tr>\n",
       "    <tr>\n",
       "      <th>2</th>\n",
       "      <td>M</td>\n",
       "      <td>Huang High School</td>\n",
       "      <td>90</td>\n",
       "    </tr>\n",
       "    <tr>\n",
       "      <th>3</th>\n",
       "      <td>M</td>\n",
       "      <td>Huang High School</td>\n",
       "      <td>67</td>\n",
       "    </tr>\n",
       "    <tr>\n",
       "      <th>4</th>\n",
       "      <td>F</td>\n",
       "      <td>Huang High School</td>\n",
       "      <td>97</td>\n",
       "    </tr>\n",
       "    <tr>\n",
       "      <th>...</th>\n",
       "      <td>...</td>\n",
       "      <td>...</td>\n",
       "      <td>...</td>\n",
       "    </tr>\n",
       "    <tr>\n",
       "      <th>39165</th>\n",
       "      <td>F</td>\n",
       "      <td>Thomas High School</td>\n",
       "      <td>99</td>\n",
       "    </tr>\n",
       "    <tr>\n",
       "      <th>39166</th>\n",
       "      <td>F</td>\n",
       "      <td>Thomas High School</td>\n",
       "      <td>95</td>\n",
       "    </tr>\n",
       "    <tr>\n",
       "      <th>39167</th>\n",
       "      <td>F</td>\n",
       "      <td>Thomas High School</td>\n",
       "      <td>73</td>\n",
       "    </tr>\n",
       "    <tr>\n",
       "      <th>39168</th>\n",
       "      <td>F</td>\n",
       "      <td>Thomas High School</td>\n",
       "      <td>99</td>\n",
       "    </tr>\n",
       "    <tr>\n",
       "      <th>39169</th>\n",
       "      <td>F</td>\n",
       "      <td>Thomas High School</td>\n",
       "      <td>95</td>\n",
       "    </tr>\n",
       "  </tbody>\n",
       "</table>\n",
       "<p>39170 rows × 3 columns</p>\n",
       "</div>"
      ],
      "text/plain": [
       "      gender         school_name  reading_score\n",
       "0          M   Huang High School             66\n",
       "1          M   Huang High School             94\n",
       "2          M   Huang High School             90\n",
       "3          M   Huang High School             67\n",
       "4          F   Huang High School             97\n",
       "...      ...                 ...            ...\n",
       "39165      F  Thomas High School             99\n",
       "39166      F  Thomas High School             95\n",
       "39167      F  Thomas High School             73\n",
       "39168      F  Thomas High School             99\n",
       "39169      F  Thomas High School             95\n",
       "\n",
       "[39170 rows x 3 columns]"
      ]
     },
     "execution_count": 48,
     "metadata": {},
     "output_type": "execute_result"
    }
   ],
   "source": [
    "prom=data_students[[\"gender\",\"school_name\",\"reading_score\"]]\n",
    "prom.\n",
    "                   "
   ]
  },
  {
   "cell_type": "markdown",
   "id": "52976e21-62c0-4f26-88b1-7d7be284cc79",
   "metadata": {},
   "source": [
    "ESTA PARTE CORRESPONDE A LOS ALUMNOS CON MEJOR PUNTAJE"
   ]
  },
  {
   "cell_type": "code",
   "execution_count": 50,
   "id": "66bfa3b3-028e-4ea8-9a32-92d58e1d22af",
   "metadata": {},
   "outputs": [
    {
     "data": {
      "text/html": [
       "<div>\n",
       "<style scoped>\n",
       "    .dataframe tbody tr th:only-of-type {\n",
       "        vertical-align: middle;\n",
       "    }\n",
       "\n",
       "    .dataframe tbody tr th {\n",
       "        vertical-align: top;\n",
       "    }\n",
       "\n",
       "    .dataframe thead th {\n",
       "        text-align: right;\n",
       "    }\n",
       "</style>\n",
       "<table border=\"1\" class=\"dataframe\">\n",
       "  <thead>\n",
       "    <tr style=\"text-align: right;\">\n",
       "      <th></th>\n",
       "      <th>Unnamed: 0</th>\n",
       "      <th>Student ID</th>\n",
       "      <th>student_name</th>\n",
       "      <th>gender</th>\n",
       "      <th>grade</th>\n",
       "      <th>school_name</th>\n",
       "      <th>reading_score</th>\n",
       "      <th>math_score</th>\n",
       "    </tr>\n",
       "  </thead>\n",
       "  <tbody>\n",
       "    <tr>\n",
       "      <th>22</th>\n",
       "      <td>22</td>\n",
       "      <td>22</td>\n",
       "      <td>Kimberly Stewart</td>\n",
       "      <td>F</td>\n",
       "      <td>11th</td>\n",
       "      <td>Huang High School</td>\n",
       "      <td>99</td>\n",
       "      <td>84</td>\n",
       "    </tr>\n",
       "    <tr>\n",
       "      <th>35</th>\n",
       "      <td>35</td>\n",
       "      <td>35</td>\n",
       "      <td>Benjamin Carlson</td>\n",
       "      <td>M</td>\n",
       "      <td>10th</td>\n",
       "      <td>Huang High School</td>\n",
       "      <td>99</td>\n",
       "      <td>61</td>\n",
       "    </tr>\n",
       "    <tr>\n",
       "      <th>78</th>\n",
       "      <td>78</td>\n",
       "      <td>78</td>\n",
       "      <td>Jason Thompson</td>\n",
       "      <td>M</td>\n",
       "      <td>12th</td>\n",
       "      <td>Huang High School</td>\n",
       "      <td>99</td>\n",
       "      <td>57</td>\n",
       "    </tr>\n",
       "    <tr>\n",
       "      <th>90</th>\n",
       "      <td>90</td>\n",
       "      <td>90</td>\n",
       "      <td>Ronald Garcia</td>\n",
       "      <td>M</td>\n",
       "      <td>9th</td>\n",
       "      <td>Huang High School</td>\n",
       "      <td>99</td>\n",
       "      <td>86</td>\n",
       "    </tr>\n",
       "    <tr>\n",
       "      <th>98</th>\n",
       "      <td>98</td>\n",
       "      <td>98</td>\n",
       "      <td>Virginia Ramirez</td>\n",
       "      <td>F</td>\n",
       "      <td>10th</td>\n",
       "      <td>Huang High School</td>\n",
       "      <td>99</td>\n",
       "      <td>89</td>\n",
       "    </tr>\n",
       "    <tr>\n",
       "      <th>...</th>\n",
       "      <td>...</td>\n",
       "      <td>...</td>\n",
       "      <td>...</td>\n",
       "      <td>...</td>\n",
       "      <td>...</td>\n",
       "      <td>...</td>\n",
       "      <td>...</td>\n",
       "      <td>...</td>\n",
       "    </tr>\n",
       "    <tr>\n",
       "      <th>38990</th>\n",
       "      <td>38990</td>\n",
       "      <td>38990</td>\n",
       "      <td>Amber Reynolds</td>\n",
       "      <td>F</td>\n",
       "      <td>12th</td>\n",
       "      <td>Thomas High School</td>\n",
       "      <td>99</td>\n",
       "      <td>87</td>\n",
       "    </tr>\n",
       "    <tr>\n",
       "      <th>39033</th>\n",
       "      <td>39033</td>\n",
       "      <td>39033</td>\n",
       "      <td>Michael Everett</td>\n",
       "      <td>M</td>\n",
       "      <td>11th</td>\n",
       "      <td>Thomas High School</td>\n",
       "      <td>99</td>\n",
       "      <td>91</td>\n",
       "    </tr>\n",
       "    <tr>\n",
       "      <th>39114</th>\n",
       "      <td>39114</td>\n",
       "      <td>39114</td>\n",
       "      <td>Gregory Taylor</td>\n",
       "      <td>M</td>\n",
       "      <td>10th</td>\n",
       "      <td>Thomas High School</td>\n",
       "      <td>99</td>\n",
       "      <td>77</td>\n",
       "    </tr>\n",
       "    <tr>\n",
       "      <th>39165</th>\n",
       "      <td>39165</td>\n",
       "      <td>39165</td>\n",
       "      <td>Donna Howard</td>\n",
       "      <td>F</td>\n",
       "      <td>12th</td>\n",
       "      <td>Thomas High School</td>\n",
       "      <td>99</td>\n",
       "      <td>90</td>\n",
       "    </tr>\n",
       "    <tr>\n",
       "      <th>39168</th>\n",
       "      <td>39168</td>\n",
       "      <td>39168</td>\n",
       "      <td>Desiree Kidd</td>\n",
       "      <td>F</td>\n",
       "      <td>10th</td>\n",
       "      <td>Thomas High School</td>\n",
       "      <td>99</td>\n",
       "      <td>90</td>\n",
       "    </tr>\n",
       "  </tbody>\n",
       "</table>\n",
       "<p>1075 rows × 8 columns</p>\n",
       "</div>"
      ],
      "text/plain": [
       "       Unnamed: 0  Student ID      student_name gender grade  \\\n",
       "22             22          22  Kimberly Stewart      F  11th   \n",
       "35             35          35  Benjamin Carlson      M  10th   \n",
       "78             78          78    Jason Thompson      M  12th   \n",
       "90             90          90     Ronald Garcia      M   9th   \n",
       "98             98          98  Virginia Ramirez      F  10th   \n",
       "...           ...         ...               ...    ...   ...   \n",
       "38990       38990       38990    Amber Reynolds      F  12th   \n",
       "39033       39033       39033   Michael Everett      M  11th   \n",
       "39114       39114       39114    Gregory Taylor      M  10th   \n",
       "39165       39165       39165      Donna Howard      F  12th   \n",
       "39168       39168       39168      Desiree Kidd      F  10th   \n",
       "\n",
       "              school_name  reading_score  math_score  \n",
       "22      Huang High School             99          84  \n",
       "35      Huang High School             99          61  \n",
       "78      Huang High School             99          57  \n",
       "90      Huang High School             99          86  \n",
       "98      Huang High School             99          89  \n",
       "...                   ...            ...         ...  \n",
       "38990  Thomas High School             99          87  \n",
       "39033  Thomas High School             99          91  \n",
       "39114  Thomas High School             99          77  \n",
       "39165  Thomas High School             99          90  \n",
       "39168  Thomas High School             99          90  \n",
       "\n",
       "[1075 rows x 8 columns]"
      ]
     },
     "execution_count": 50,
     "metadata": {},
     "output_type": "execute_result"
    }
   ],
   "source": [
    "#SE FILTRAN SOLO A LOS PUNTAJES DE READING MÁS ALTOS\n",
    "prommax=data_students[data_students[\"reading_score\"]==data_students[\"reading_score\"].max()]\n",
    "prommax"
   ]
  },
  {
   "cell_type": "code",
   "execution_count": 60,
   "id": "518ccb58-536e-4e44-819b-935220d38be7",
   "metadata": {},
   "outputs": [
    {
     "data": {
      "text/plain": [
       "school_name            reading_score\n",
       "Bailey High School     99               114\n",
       "Cabrera High School    99                58\n",
       "Figueroa High School   99                99\n",
       "Ford High School       99                59\n",
       "Griffin High School    99                52\n",
       "Hernandez High School  99               124\n",
       "Holden High School     99                12\n",
       "Huang High School      99                75\n",
       "Johnson High School    99               114\n",
       "Pena High School       99                41\n",
       "Rodriguez High School  99                99\n",
       "Shelton High School    99                49\n",
       "Thomas High School     99                52\n",
       "Wilson High School     99                79\n",
       "Wright High School     99                48\n",
       "Name: reading_score, dtype: int64"
      ]
     },
     "execution_count": 60,
     "metadata": {},
     "output_type": "execute_result"
    }
   ],
   "source": [
    "#SE REALIZA EN CONTEO DE LOS ALUMNOS POR ESCUELA CON EL MEJOR PUNTAJE\n",
    "countmax=prommax.groupby(\"school_name\")[\"reading_score\"].value_counts()\n",
    "countmax"
   ]
  },
  {
   "cell_type": "code",
   "execution_count": 61,
   "id": "757518fe-061a-4a67-9fb9-7f7b8bc237c1",
   "metadata": {},
   "outputs": [
    {
     "data": {
      "text/plain": [
       "Text(0, 0.5, 'Alumnos')"
      ]
     },
     "execution_count": 61,
     "metadata": {},
     "output_type": "execute_result"
    },
    {
     "data": {
      "image/png": "[encoded data removed]",
      "text/plain": [
       "<Figure size 720x360 with 1 Axes>"
      ]
     },
     "metadata": {
      "needs_background": "light"
     },
     "output_type": "display_data"
    }
   ],
   "source": [
    "countmax.plot(kind=\"bar\",color='#5F9EA0',figsize=(10,5))\n",
    "plt.title(\"Alumnos con el mejor puntaje por escuela\")\n",
    "plt.xlabel(\"Escuela\")\n",
    "plt.ylabel(\"Alumnos\")"
   ]
  },
  {
   "cell_type": "code",
   "execution_count": 71,
   "id": "f0fbc666-9019-4e50-8f86-3ed696a453be",
   "metadata": {},
   "outputs": [
    {
     "name": "stdout",
     "output_type": "stream",
     "text": [
      "De los alumnos con mejor puntaje en cada escuela, la distribución se encuentra de la siguiente forma gender  reading_score\n",
      "F       99               539\n",
      "M       99               536\n",
      "Name: reading_score, dtype: int64\n"
     ]
    },
    {
     "data": {
      "text/plain": [
       "Text(0, 0.5, 'Alumnos')"
      ]
     },
     "execution_count": 71,
     "metadata": {},
     "output_type": "execute_result"
    },
    {
     "data": {
      "image/png": "[encoded data removed]",
      "text/plain": [
       "<Figure size 720x360 with 1 Axes>"
      ]
     },
     "metadata": {
      "needs_background": "light"
     },
     "output_type": "display_data"
    }
   ],
   "source": [
    "countmax=prommax.groupby(\"gender\")[\"reading_score\"].value_counts()\n",
    "print(\"De los alumnos con mejor puntaje en cada escuela, la distribución se encuentra de la siguiente forma\", countmax)\n",
    "\n",
    "countmax.plot(kind=\"bar\",color='#5F9EA0',figsize=(10,5))\n",
    "plt.title(\"Generos con mejores puntajes\")\n",
    "plt.xlabel(\"Genero\")\n",
    "plt.ylabel(\"Alumnos\")\n"
   ]
  },
  {
   "cell_type": "markdown",
   "id": "8e108536-95d3-41ce-b79b-36ce2c134d01",
   "metadata": {},
   "source": [
    "ESTA PARTE CORRESPONDE A LOS ALUMNOS CON EL MENOR PUNTAJE"
   ]
  },
  {
   "cell_type": "code",
   "execution_count": 65,
   "id": "9ed4659e-2e21-4f14-95db-c319f294a7c4",
   "metadata": {},
   "outputs": [
    {
     "data": {
      "text/html": [
       "<div>\n",
       "<style scoped>\n",
       "    .dataframe tbody tr th:only-of-type {\n",
       "        vertical-align: middle;\n",
       "    }\n",
       "\n",
       "    .dataframe tbody tr th {\n",
       "        vertical-align: top;\n",
       "    }\n",
       "\n",
       "    .dataframe thead th {\n",
       "        text-align: right;\n",
       "    }\n",
       "</style>\n",
       "<table border=\"1\" class=\"dataframe\">\n",
       "  <thead>\n",
       "    <tr style=\"text-align: right;\">\n",
       "      <th></th>\n",
       "      <th>Unnamed: 0</th>\n",
       "      <th>Student ID</th>\n",
       "      <th>student_name</th>\n",
       "      <th>gender</th>\n",
       "      <th>grade</th>\n",
       "      <th>school_name</th>\n",
       "      <th>reading_score</th>\n",
       "      <th>math_score</th>\n",
       "    </tr>\n",
       "  </thead>\n",
       "  <tbody>\n",
       "    <tr>\n",
       "      <th>26</th>\n",
       "      <td>26</td>\n",
       "      <td>26</td>\n",
       "      <td>Melanie Decker</td>\n",
       "      <td>F</td>\n",
       "      <td>9th</td>\n",
       "      <td>Huang High School</td>\n",
       "      <td>63</td>\n",
       "      <td>85</td>\n",
       "    </tr>\n",
       "    <tr>\n",
       "      <th>37</th>\n",
       "      <td>37</td>\n",
       "      <td>37</td>\n",
       "      <td>Jesse Newton</td>\n",
       "      <td>M</td>\n",
       "      <td>10th</td>\n",
       "      <td>Huang High School</td>\n",
       "      <td>63</td>\n",
       "      <td>66</td>\n",
       "    </tr>\n",
       "    <tr>\n",
       "      <th>60</th>\n",
       "      <td>60</td>\n",
       "      <td>60</td>\n",
       "      <td>Jared Wood</td>\n",
       "      <td>M</td>\n",
       "      <td>9th</td>\n",
       "      <td>Huang High School</td>\n",
       "      <td>63</td>\n",
       "      <td>89</td>\n",
       "    </tr>\n",
       "    <tr>\n",
       "      <th>124</th>\n",
       "      <td>124</td>\n",
       "      <td>124</td>\n",
       "      <td>Bonnie Mckinney</td>\n",
       "      <td>F</td>\n",
       "      <td>11th</td>\n",
       "      <td>Huang High School</td>\n",
       "      <td>63</td>\n",
       "      <td>65</td>\n",
       "    </tr>\n",
       "    <tr>\n",
       "      <th>131</th>\n",
       "      <td>131</td>\n",
       "      <td>131</td>\n",
       "      <td>Thomas Strickland</td>\n",
       "      <td>M</td>\n",
       "      <td>9th</td>\n",
       "      <td>Huang High School</td>\n",
       "      <td>63</td>\n",
       "      <td>77</td>\n",
       "    </tr>\n",
       "    <tr>\n",
       "      <th>...</th>\n",
       "      <td>...</td>\n",
       "      <td>...</td>\n",
       "      <td>...</td>\n",
       "      <td>...</td>\n",
       "      <td>...</td>\n",
       "      <td>...</td>\n",
       "      <td>...</td>\n",
       "      <td>...</td>\n",
       "    </tr>\n",
       "    <tr>\n",
       "      <th>37420</th>\n",
       "      <td>37420</td>\n",
       "      <td>37420</td>\n",
       "      <td>Darryl Kelly</td>\n",
       "      <td>M</td>\n",
       "      <td>12th</td>\n",
       "      <td>Ford High School</td>\n",
       "      <td>63</td>\n",
       "      <td>62</td>\n",
       "    </tr>\n",
       "    <tr>\n",
       "      <th>37422</th>\n",
       "      <td>37422</td>\n",
       "      <td>37422</td>\n",
       "      <td>Megan Heath</td>\n",
       "      <td>F</td>\n",
       "      <td>10th</td>\n",
       "      <td>Ford High School</td>\n",
       "      <td>63</td>\n",
       "      <td>79</td>\n",
       "    </tr>\n",
       "    <tr>\n",
       "      <th>37484</th>\n",
       "      <td>37484</td>\n",
       "      <td>37484</td>\n",
       "      <td>Angela Turner</td>\n",
       "      <td>F</td>\n",
       "      <td>12th</td>\n",
       "      <td>Ford High School</td>\n",
       "      <td>63</td>\n",
       "      <td>58</td>\n",
       "    </tr>\n",
       "    <tr>\n",
       "      <th>37520</th>\n",
       "      <td>37520</td>\n",
       "      <td>37520</td>\n",
       "      <td>Benjamin Odonnell</td>\n",
       "      <td>M</td>\n",
       "      <td>11th</td>\n",
       "      <td>Ford High School</td>\n",
       "      <td>63</td>\n",
       "      <td>74</td>\n",
       "    </tr>\n",
       "    <tr>\n",
       "      <th>37530</th>\n",
       "      <td>37530</td>\n",
       "      <td>37530</td>\n",
       "      <td>William Rivera</td>\n",
       "      <td>M</td>\n",
       "      <td>9th</td>\n",
       "      <td>Ford High School</td>\n",
       "      <td>63</td>\n",
       "      <td>59</td>\n",
       "    </tr>\n",
       "  </tbody>\n",
       "</table>\n",
       "<p>751 rows × 8 columns</p>\n",
       "</div>"
      ],
      "text/plain": [
       "       Unnamed: 0  Student ID       student_name gender grade  \\\n",
       "26             26          26     Melanie Decker      F   9th   \n",
       "37             37          37       Jesse Newton      M  10th   \n",
       "60             60          60         Jared Wood      M   9th   \n",
       "124           124         124    Bonnie Mckinney      F  11th   \n",
       "131           131         131  Thomas Strickland      M   9th   \n",
       "...           ...         ...                ...    ...   ...   \n",
       "37420       37420       37420       Darryl Kelly      M  12th   \n",
       "37422       37422       37422        Megan Heath      F  10th   \n",
       "37484       37484       37484      Angela Turner      F  12th   \n",
       "37520       37520       37520  Benjamin Odonnell      M  11th   \n",
       "37530       37530       37530     William Rivera      M   9th   \n",
       "\n",
       "             school_name  reading_score  math_score  \n",
       "26     Huang High School             63          85  \n",
       "37     Huang High School             63          66  \n",
       "60     Huang High School             63          89  \n",
       "124    Huang High School             63          65  \n",
       "131    Huang High School             63          77  \n",
       "...                  ...            ...         ...  \n",
       "37420   Ford High School             63          62  \n",
       "37422   Ford High School             63          79  \n",
       "37484   Ford High School             63          58  \n",
       "37520   Ford High School             63          74  \n",
       "37530   Ford High School             63          59  \n",
       "\n",
       "[751 rows x 8 columns]"
      ]
     },
     "execution_count": 65,
     "metadata": {},
     "output_type": "execute_result"
    }
   ],
   "source": [
    "#SE FILTRAN SOLO A LOS PUNTAJES DE READING MÁS ALTOS\n",
    "prommin=data_students[data_students[\"reading_score\"]==data_students[\"reading_score\"].min()]\n",
    "prommin"
   ]
  },
  {
   "cell_type": "code",
   "execution_count": 66,
   "id": "8e9d27e2-962b-4094-8aff-ec470b27b308",
   "metadata": {},
   "outputs": [
    {
     "data": {
      "text/plain": [
       "school_name            reading_score\n",
       "Bailey High School     63               135\n",
       "Figueroa High School   63                78\n",
       "Ford High School       63                85\n",
       "Hernandez High School  63               134\n",
       "Huang High School      63                82\n",
       "Johnson High School    63               140\n",
       "Rodriguez High School  63                97\n",
       "Name: reading_score, dtype: int64"
      ]
     },
     "execution_count": 66,
     "metadata": {},
     "output_type": "execute_result"
    }
   ],
   "source": [
    "#SE REALIZA EN CONTEO DE LOS ALUMNOS POR ESCUELA CON EL MEJOR PUNTAJE\n",
    "countmin=prommin.groupby(\"school_name\")[\"reading_score\"].value_counts()\n",
    "countmin"
   ]
  },
  {
   "cell_type": "code",
   "execution_count": 68,
   "id": "01d19581-a612-4681-956f-5394ce21e00c",
   "metadata": {},
   "outputs": [
    {
     "data": {
      "text/plain": [
       "Text(0, 0.5, 'Alumnos')"
      ]
     },
     "execution_count": 68,
     "metadata": {},
     "output_type": "execute_result"
    },
    {
     "data": {
      "image/png": "[encoded data removed]",
      "text/plain": [
       "<Figure size 720x360 with 1 Axes>"
      ]
     },
     "metadata": {
      "needs_background": "light"
     },
     "output_type": "display_data"
    }
   ],
   "source": [
    "countmin.plot(kind=\"bar\",color='#000080',figsize=(10,5))\n",
    "plt.title(\"Alumnos con el menor puntaje por escuela\")\n",
    "plt.xlabel(\"Escuela\")\n",
    "plt.ylabel(\"Alumnos\")"
   ]
  },
  {
   "cell_type": "code",
   "execution_count": 72,
   "id": "9db19d2d-686b-42ac-acf6-89497cec4616",
   "metadata": {},
   "outputs": [
    {
     "name": "stdout",
     "output_type": "stream",
     "text": [
      "De los alumnos con menor puntaje en cada escuela, la distribución se encuentra de la siguiente forma gender  reading_score\n",
      "F       63               361\n",
      "M       63               390\n",
      "Name: reading_score, dtype: int64\n"
     ]
    },
    {
     "data": {
      "text/plain": [
       "Text(0, 0.5, 'Alumnos')"
      ]
     },
     "execution_count": 72,
     "metadata": {},
     "output_type": "execute_result"
    },
    {
     "data": {
      "image/png": "[encoded data removed]",
      "text/plain": [
       "<Figure size 720x360 with 1 Axes>"
      ]
     },
     "metadata": {
      "needs_background": "light"
     },
     "output_type": "display_data"
    }
   ],
   "source": [
    "countmin=prommin.groupby(\"gender\")[\"reading_score\"].value_counts()\n",
    "print(\"De los alumnos con menor puntaje en cada escuela, la distribución se encuentra de la siguiente forma\", countmin)\n",
    "\n",
    "countmin.plot(kind=\"bar\",color='#000080',figsize=(10,5))\n",
    "plt.title(\"Generos con el menor puntaje\")\n",
    "plt.xlabel(\"Genero\")\n",
    "plt.ylabel(\"Alumnos\")"
   ]
  },
  {
   "cell_type": "code",
   "execution_count": null,
   "id": "0e0872f2-52f6-4114-b0e7-74cbeef685c8",
   "metadata": {},
   "outputs": [],
   "source": []
  }
 ],
 "metadata": {
  "kernelspec": {
   "display_name": "Python 3",
   "language": "python",
   "name": "python3"
  },
  "language_info": {
   "codemirror_mode": {
    "name": "ipython",
    "version": 3
   },
   "file_extension": ".py",
   "mimetype": "text/x-python",
   "name": "python",
   "nbconvert_exporter": "python",
   "pygments_lexer": "ipython3",
   "version": "3.6.13"
  }
 },
 "nbformat": 4,
 "nbformat_minor": 5
}
